{
 "cells": [
  {
   "cell_type": "code",
   "execution_count": 2,
   "metadata": {},
   "outputs": [
    {
     "name": "stdout",
     "output_type": "stream",
     "text": [
      "1 2 1 3\n",
      "1 2 1 5\n",
      "1 2 3 1\n",
      "1 2 3 5\n",
      "1 2 5 1\n",
      "1 2 5 3\n",
      "1 3 1 2\n",
      "1 3 1 5\n",
      "1 3 2 1\n",
      "1 3 2 5\n",
      "1 3 5 1\n",
      "1 3 5 2\n",
      "1 5 1 2\n",
      "1 5 1 3\n",
      "1 5 2 1\n",
      "1 5 2 3\n",
      "1 5 3 1\n",
      "1 5 3 2\n",
      "2 1 2 3\n",
      "2 1 2 5\n",
      "2 1 3 2\n",
      "2 1 3 5\n",
      "2 1 5 2\n",
      "2 1 5 3\n",
      "2 3 1 2\n",
      "2 3 1 5\n",
      "2 3 2 1\n",
      "2 3 2 5\n",
      "2 3 5 1\n",
      "2 3 5 2\n",
      "2 5 1 2\n",
      "2 5 1 3\n",
      "2 5 2 1\n",
      "2 5 2 3\n",
      "2 5 3 1\n",
      "2 5 3 2\n",
      "3 1 2 3\n",
      "3 1 2 5\n",
      "3 1 3 2\n",
      "3 1 3 5\n",
      "3 1 5 2\n",
      "3 1 5 3\n",
      "3 2 1 3\n",
      "3 2 1 5\n",
      "3 2 3 1\n",
      "3 2 3 5\n",
      "3 2 5 1\n",
      "3 2 5 3\n",
      "3 5 1 2\n",
      "3 5 1 3\n",
      "3 5 2 1\n",
      "3 5 2 3\n",
      "3 5 3 1\n",
      "3 5 3 2\n",
      "5 1 2 3\n",
      "5 1 2 5\n",
      "5 1 3 2\n",
      "5 1 3 5\n",
      "5 1 5 2\n",
      "5 1 5 3\n",
      "5 2 1 3\n",
      "5 2 1 5\n",
      "5 2 3 1\n",
      "5 2 3 5\n",
      "5 2 5 1\n",
      "5 2 5 3\n",
      "5 3 1 2\n",
      "5 3 1 5\n",
      "5 3 2 1\n",
      "5 3 2 5\n",
      "5 3 5 1\n",
      "5 3 5 2\n"
     ]
    }
   ],
   "source": [
    "for i in range(1,6):\n",
    "    for j in range(1,6):\n",
    "        for k in range(1,6):\n",
    "            for l in range(1,6):\n",
    "                if( i != j ) and (j != k) and (k != l) and (l!=j) and (i != 4) and (j != 4) and (k != 4) and (l != 4):\n",
    "                    print(i,j,k,l)"
   ]
  },
  {
   "cell_type": "code",
   "execution_count": 1,
   "metadata": {},
   "outputs": [
    {
     "data": {
      "text/plain": [
       "17710"
      ]
     },
     "execution_count": 1,
     "metadata": {},
     "output_type": "execute_result"
    }
   ],
   "source": [
    "def fib(n):\n",
    "    if n == 1:\n",
    "        return [1]\n",
    "    if n == 2:\n",
    "        return [1, 1]\n",
    "    fibs = [1, 1]\n",
    "    for i in range(2, n):\n",
    "        fibs.append(fibs[-1] + fibs[-2])\n",
    "    return fibs\n",
    "F=sum(fib(20))\n",
    "F"
   ]
  },
  {
   "cell_type": "code",
   "execution_count": 10,
   "metadata": {},
   "outputs": [
    {
     "name": "stdout",
     "output_type": "stream",
     "text": [
      "[2, 11, 13, 17, 19, 31, 37, 53, 59, 71, 73, 79, 97, 101, 103, 107, 109, 127, 149, 163, 167, 181]\n"
     ]
    }
   ],
   "source": [
    "number=[]\n",
    "final=[]\n",
    "for num in range (2,201):\n",
    "    for i in range (2,num):\n",
    "        if (num%i)==0:\n",
    "            break\n",
    "    else:\n",
    "        number.append(num)\n",
    "        if (num//100+num//10+num)%2==0:\n",
    "            final.append(num)\n",
    "print(final)"
   ]
  },
  {
   "cell_type": "code",
   "execution_count": null,
   "metadata": {
    "collapsed": true
   },
   "outputs": [],
   "source": []
  }
 ],
 "metadata": {
  "kernelspec": {
   "display_name": "Python 3",
   "language": "python",
   "name": "python3"
  },
  "language_info": {
   "codemirror_mode": {
    "name": "ipython",
    "version": 3
   },
   "file_extension": ".py",
   "mimetype": "text/x-python",
   "name": "python",
   "nbconvert_exporter": "python",
   "pygments_lexer": "ipython3",
   "version": "3.6.2"
  }
 },
 "nbformat": 4,
 "nbformat_minor": 2
}
